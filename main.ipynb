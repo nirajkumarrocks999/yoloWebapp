{
 "cells": [
  {
   "cell_type": "code",
   "execution_count": 1,
   "id": "35488c3e",
   "metadata": {},
   "outputs": [],
   "source": [
    "import webapp"
   ]
  },
  {
   "cell_type": "code",
   "execution_count": null,
   "id": "9b7d7b98",
   "metadata": {},
   "outputs": [],
   "source": [
    "!python webapp.py"
   ]
  }
 ],
 "metadata": {
  "kernelspec": {
   "display_name": "Python 3 (ipykernel)",
   "language": "python",
   "name": "python3"
  },
  "language_info": {
   "codemirror_mode": {
    "name": "ipython",
    "version": 3
   },
   "file_extension": ".py",
   "mimetype": "text/x-python",
   "name": "python",
   "nbconvert_exporter": "python",
   "pygments_lexer": "ipython3",
   "version": "3.10.8"
  }
 },
 "nbformat": 4,
 "nbformat_minor": 5
}
